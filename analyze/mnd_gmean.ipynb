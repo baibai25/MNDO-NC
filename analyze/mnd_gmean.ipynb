{
 "cells": [
  {
   "cell_type": "markdown",
   "metadata": {},
   "source": [
    "# Summary of MNDO's G-mean\n",
    "\n",
    " \n",
    "| e.g.         | SVM               | DT                | k-NN              |\n",
    "| ------------ | ----------------- | ----------------- | ----------------- |\n",
    "| glass6       | 0.831137457755461 | 0.876596288283027 | 0.948683298050514 |\n",
    "| new-thyroid1 | 0.733799385705343 | 0.993127066322841 | 0.986206235898976 |\n",
    "| newthyroid2  | 0.784464540552736 | 0.993127066322841 | 0.986206235898976 |"
   ]
  },
  {
   "cell_type": "code",
   "execution_count": null,
   "metadata": {},
   "outputs": [],
   "source": [
    "import pandas as pd \n",
    "import numpy as np"
   ]
  },
  {
   "cell_type": "code",
   "execution_count": null,
   "metadata": {},
   "outputs": [],
   "source": [
    "# nopre, nor, stand\n",
    "path = 'nor'\n",
    "#data = pd.read_csv('../result/data/{}/mnd.csv'.format(path), index_col=0)\n",
    "data = pd.read_csv('../result/data/mnd.csv'.format(path), index_col=0)"
   ]
  },
  {
   "cell_type": "code",
   "execution_count": null,
   "metadata": {},
   "outputs": [],
   "source": [
    "col = ['Sensitivity', 'Specificity', 'Geometric mean', 'AUC']\n",
    "# split data to each learning method\n",
    "svm = data[data.columns[0:4]]\n",
    "tree = data[data.columns[4:8]]\n",
    "knn = data[data.columns[8:12]]\n",
    "svm.columns = col\n",
    "tree.columns = col\n",
    "knn.columns = col"
   ]
  },
  {
   "cell_type": "code",
   "execution_count": null,
   "metadata": {},
   "outputs": [],
   "source": [
    "# 各学習手法の最大値、そのデータセット名を取得\n",
    "a = svm[svm[svm.columns[2]] == svm[svm.columns[2]].max()]\n",
    "b = tree[tree[tree.columns[2]] == tree[tree.columns[2]].max()]\n",
    "c = knn[knn[knn.columns[2]] == knn[knn.columns[2]].max()]\n",
    "d = pd.concat([a, b, c], axis=1)\n",
    "list_ind = list(d.index)"
   ]
  },
  {
   "cell_type": "code",
   "execution_count": null,
   "metadata": {},
   "outputs": [],
   "source": [
    "g_svm = svm.loc[list_ind, ['Geometric mean']]\n",
    "g_tree = tree.loc[list_ind, ['Geometric mean']]\n",
    "g_knn = knn.loc[list_ind, ['Geometric mean']]\n",
    "df = pd.concat([g_svm, g_tree, g_knn], axis=1)\n",
    "df.columns = ['SVM', 'DT', 'k-NN']"
   ]
  },
  {
   "cell_type": "code",
   "execution_count": null,
   "metadata": {},
   "outputs": [],
   "source": [
    "df.to_csv('../result/{}_mnd.csv'.format(path))"
   ]
  },
  {
   "cell_type": "code",
   "execution_count": null,
   "metadata": {},
   "outputs": [],
   "source": [
    "df"
   ]
  },
  {
   "cell_type": "code",
   "execution_count": null,
   "metadata": {},
   "outputs": [],
   "source": []
  }
 ],
 "metadata": {
  "kernelspec": {
   "display_name": "Python 3",
   "language": "python",
   "name": "python3"
  },
  "language_info": {
   "codemirror_mode": {
    "name": "ipython",
    "version": 3
   },
   "file_extension": ".py",
   "mimetype": "text/x-python",
   "name": "python",
   "nbconvert_exporter": "python",
   "pygments_lexer": "ipython3",
   "version": "3.6.4"
  },
  "varInspector": {
   "cols": {
    "lenName": 16,
    "lenType": 16,
    "lenVar": 40
   },
   "kernels_config": {
    "python": {
     "delete_cmd_postfix": "",
     "delete_cmd_prefix": "del ",
     "library": "var_list.py",
     "varRefreshCmd": "print(var_dic_list())"
    },
    "r": {
     "delete_cmd_postfix": ") ",
     "delete_cmd_prefix": "rm(",
     "library": "var_list.r",
     "varRefreshCmd": "cat(var_dic_list()) "
    }
   },
   "types_to_exclude": [
    "module",
    "function",
    "builtin_function_or_method",
    "instance",
    "_Feature"
   ],
   "window_display": false
  }
 },
 "nbformat": 4,
 "nbformat_minor": 2
}
