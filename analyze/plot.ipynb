{
 "cells": [
  {
   "cell_type": "code",
   "execution_count": null,
   "metadata": {},
   "outputs": [],
   "source": [
    "import pandas as pd\n",
    "import numpy as np\n",
    "import matplotlib\n",
    "import matplotlib.pyplot as plt\n",
    "import matplotlib.ticker as tick\n",
    "path_pre = 'nopre'\n",
    "path_os = 'mnd'\n",
    "os_name = 'MNDOSMOTETomek'\n",
    "# nopre, norm, stand\n",
    "# sm, b1, b2, ada, enn, tom, mnd\n",
    "# 'SMOTE', 'Borderline1', 'Bordeline2', 'ADASYN', 'SMOTEENN', 'SMOTETomek', 'MNDO'"
   ]
  },
  {
   "cell_type": "code",
   "execution_count": null,
   "metadata": {},
   "outputs": [],
   "source": [
    "data = pd.read_csv('../result/data/{}/{}.csv'.format(path_pre, path_os), index_col=0)\n",
    "desc = pd.read_csv('../result/description.csv', index_col=0)\n",
    "data = data.sort_index()\n",
    "desc = desc.sort_index()\n",
    "data = pd.concat([data, desc], axis=1)\n",
    "data = data.sort_values('IR')\n",
    "#data.drop(['Featurs', 'Instances', 'IR'], axis=1, inplace=True)"
   ]
  },
  {
   "cell_type": "code",
   "execution_count": null,
   "metadata": {},
   "outputs": [],
   "source": [
    "# split data to each learning method\n",
    "svm = data[data.columns[0:4]]\n",
    "tree = data[data.columns[4:8]]\n",
    "knn = data[data.columns[8:12]]"
   ]
  },
  {
   "cell_type": "code",
   "execution_count": null,
   "metadata": {},
   "outputs": [],
   "source": [
    "# set some data\n",
    "method_data = [svm, tree, knn]\n",
    "method_name = ['svm', 'tree', 'knn']\n",
    "col = ['Sensitivity', 'Specificity', 'Geometric mean', 'AUC']\n",
    "y_label = col\n",
    "x = data['IR']"
   ]
  },
  {
   "cell_type": "code",
   "execution_count": null,
   "metadata": {},
   "outputs": [],
   "source": [
    "# export g-mean\n",
    "svm = svm[svm.columns[[2]]]\n",
    "tree = tree[tree.columns[[2]]]\n",
    "knn = knn[knn.columns[[2]]]\n",
    "mean_svm = [svm.mean()]  * len(x)\n",
    "mean_tree = [tree.mean()]  * len(x)\n",
    "mean_knn = [knn.mean()]  * len(x)\n",
    "\n",
    "# point plot\n",
    "line = ['solid', 'dotted', 'dashed', 'dashdot']\n",
    "plt.figure(figsize=(15, 5))\n",
    "plt.plot(x, svm, label='SVM', color='k', linestyle=line[0], marker='.', alpha=0.5)\n",
    "plt.plot(x, tree, label='DT', color='b', linestyle=line[0], marker='x', alpha=0.5)\n",
    "plt.plot(x, knn, label='k-NN', color='r', linestyle=line[0], marker='+', alpha=0.5)\n",
    "plt.plot(x, mean_svm, color='k', linestyle='dotted')\n",
    "plt.plot(x, mean_tree, color='b', linestyle='dashed')\n",
    "plt.plot(x, mean_knn, color='r', linestyle='dashdot')\n",
    "\n",
    "# set information\n",
    "plt.title(os_name)\n",
    "plt.xlabel('IR')\n",
    "plt.ylabel('G mean')\n",
    "plt.legend()\n",
    "plt.gca().xaxis.set_major_locator(tick.MultipleLocator(10))\n",
    "plt.gca().xaxis.set_minor_locator(tick.MultipleLocator(1))\n",
    "plt.grid()\n",
    "plt.tight_layout()\n",
    "plt.tight_layout()\n",
    "\n",
    "# export image\n",
    "save_path = '../result/plot/{}.png'.format(os_name)\n",
    "plt.savefig(save_path, dpi=300)\n",
    "plt.close()\n",
    "plt.clf()"
   ]
  },
  {
   "cell_type": "markdown",
   "metadata": {},
   "source": [
    "# Plot each metrics"
   ]
  },
  {
   "cell_type": "code",
   "execution_count": null,
   "metadata": {},
   "outputs": [],
   "source": [
    "# plot svm\n",
    "for i in range(len(svm.columns)):\n",
    "    y = svm[svm.columns[i]]\n",
    "    mean_list = [svm[svm.columns[i]].mean()]  * len(x)\n",
    "    # point plot\n",
    "    plt.plot(x, y, label='Data', color='k',marker='o')\n",
    "    plt.plot(x, mean_list, label='Mean', linestyle='dashed', color='k')\n",
    "    # set plt information\n",
    "    plt.title('SVM')\n",
    "    plt.xlabel('IR')\n",
    "    plt.ylabel(y_label[i])\n",
    "    plt.gca().xaxis.set_major_locator(tick.MultipleLocator(10))\n",
    "    plt.gca().xaxis.set_minor_locator(tick.MultipleLocator(1))\n",
    "    plt.grid()\n",
    "    plt.tight_layout()\n",
    "    # export image\n",
    "    save_path = '../result/plot/{}/{}/svm_{}.png'.format(path_pre, path_os, y_label[i])\n",
    "    plt.savefig(save_path, dpi=300)\n",
    "    plt.close()\n",
    "    plt.clf()"
   ]
  },
  {
   "cell_type": "code",
   "execution_count": null,
   "metadata": {},
   "outputs": [],
   "source": [
    "# plot tree\n",
    "for i in range(len(tree.columns)):\n",
    "    y = tree[tree.columns[i]]\n",
    "    mean_list = [tree[tree.columns[i]].mean()]  * len(x)\n",
    "    # point plot\n",
    "    plt.plot(x, y, label='Data', color='k',marker='o')\n",
    "    plt.plot(x, mean_list, label='Mean', linestyle='dashed', color='k')\n",
    "    # set plt information\n",
    "    plt.title('DT')\n",
    "    plt.xlabel('IR')\n",
    "    plt.ylabel(y_label[i])\n",
    "    plt.gca().xaxis.set_major_locator(tick.MultipleLocator(10))\n",
    "    plt.gca().xaxis.set_minor_locator(tick.MultipleLocator(1))\n",
    "    plt.grid()\n",
    "    plt.tight_layout()\n",
    "    # export image\n",
    "    save_path = '../result/plot/{}/{}/tree_{}.png'.format(path_pre, path_os, y_label[i])\n",
    "    plt.savefig(save_path, dpi=300)\n",
    "    plt.close()\n",
    "    plt.clf()"
   ]
  },
  {
   "cell_type": "code",
   "execution_count": null,
   "metadata": {},
   "outputs": [],
   "source": [
    "# plot knn\n",
    "for i in range(len(knn.columns)):\n",
    "    y = knn[knn.columns[i]]\n",
    "    mean_list = [knn[knn.columns[i]].mean()]  * len(x)\n",
    "    # point plot\n",
    "    plt.plot(x, y, label='Data', color='k',marker='o')\n",
    "    plt.plot(x, mean_list, label='Mean', linestyle='dashed', color='k')\n",
    "    # set plt information\n",
    "    plt.title('k-NN')\n",
    "    plt.xlabel('IR')\n",
    "    plt.ylabel(y_label[i])\n",
    "    plt.gca().xaxis.set_major_locator(tick.MultipleLocator(10))\n",
    "    plt.gca().xaxis.set_minor_locator(tick.MultipleLocator(1))\n",
    "    plt.grid()\n",
    "    plt.tight_layout()\n",
    "    # export image\n",
    "    save_path = '../result/plot/{}/{}/knn_{}.png'.format(path_pre, path_os, y_label[i])\n",
    "    plt.savefig(save_path, dpi=300)\n",
    "    plt.close()\n",
    "    plt.clf()"
   ]
  },
  {
   "cell_type": "code",
   "execution_count": null,
   "metadata": {},
   "outputs": [],
   "source": []
  }
 ],
 "metadata": {
  "kernelspec": {
   "display_name": "Python 3",
   "language": "python",
   "name": "python3"
  },
  "language_info": {
   "codemirror_mode": {
    "name": "ipython",
    "version": 3
   },
   "file_extension": ".py",
   "mimetype": "text/x-python",
   "name": "python",
   "nbconvert_exporter": "python",
   "pygments_lexer": "ipython3",
   "version": "3.6.4"
  },
  "varInspector": {
   "cols": {
    "lenName": 16,
    "lenType": 16,
    "lenVar": 40
   },
   "kernels_config": {
    "python": {
     "delete_cmd_postfix": "",
     "delete_cmd_prefix": "del ",
     "library": "var_list.py",
     "varRefreshCmd": "print(var_dic_list())"
    },
    "r": {
     "delete_cmd_postfix": ") ",
     "delete_cmd_prefix": "rm(",
     "library": "var_list.r",
     "varRefreshCmd": "cat(var_dic_list()) "
    }
   },
   "types_to_exclude": [
    "module",
    "function",
    "builtin_function_or_method",
    "instance",
    "_Feature"
   ],
   "window_display": false
  }
 },
 "nbformat": 4,
 "nbformat_minor": 2
}
