{
 "cells": [
  {
   "cell_type": "code",
   "execution_count": 1,
   "metadata": {},
   "outputs": [],
   "source": [
    "import sys\n",
    "import os\n",
    "import numpy as np\n",
    "import pandas as pd\n",
    "from src import multivariate_os, nominal_os\n",
    "from collections import Counter\n",
    "from sklearn.model_selection import train_test_split"
   ]
  },
  {
   "cell_type": "code",
   "execution_count": 2,
   "metadata": {},
   "outputs": [],
   "source": [
    "# Multivariate over-sampling\n",
    "def mndo(pos, num_minority):\n",
    "    pos, zero_std = multivariate_os.find_zerostd(pos, num_minority)\n",
    "    pos, no_corr = multivariate_os.no_corr(pos, num_minority)\n",
    "    pos = multivariate_os.mnd_os(pos, num_minority)\n",
    "    #numerical_os.nc_os(pos, zero_std, no_corr, nominal)\n",
    "    #mndo_df = multivariate_os.append_data(pos, zero_std, no_corr, name)\n",
    "    return pos"
   ]
  },
  {
   "cell_type": "code",
   "execution_count": 30,
   "metadata": {},
   "outputs": [],
   "source": [
    "# Load dataset\n",
    "try:\n",
    "    data = pd.read_csv('Predataset/abalone_19/continuous.csv')\n",
    "    nominal = pd.read_csv('Predataset/abalone_19/nominal.csv')\n",
    "    #data = pd.read_csv('Predataset/{}/continuous.csv'.format(sys.argv[1]))\n",
    "    #nominal = pd.read_csv('Predataset/{}/nominal.csv'.format(sys.argv[1]))\n",
    "    #file_name = sys.argv[1]\n",
    "except IndexError:\n",
    "    sys.exit('error: Must specify dataset file')\n",
    "except FileNotFoundError:\n",
    "    sys.exit('error: No such file or directory')"
   ]
  },
  {
   "cell_type": "code",
   "execution_count": 32,
   "metadata": {},
   "outputs": [],
   "source": [
    "# split the data\n",
    "X = data.drop('Label', axis=1)\n",
    "y = data.Label\n",
    "X = np.array(X)\n",
    "y = np.array(y)\n",
    "\n",
    "# split positive class\n",
    "pos = data[data.Label == 1]\n",
    "pos = pos.drop('Label', axis=1)\n",
    "nominal = nominal[nominal.Label == 1]\n",
    "nominal = nominal.drop('Label', axis=1)\n",
    "\n",
    "\n",
    "# calc number of  samples to synthesize\n",
    "X_train, X_test, y_train, y_test = train_test_split(X, y, test_size=0.3,\n",
    "        shuffle=True, random_state=42)\n",
    "\n",
    "cnt = Counter(y_train)\n",
    "num_minority = int((cnt[-1] - cnt[1]))"
   ]
  },
  {
   "cell_type": "code",
   "execution_count": 5,
   "metadata": {},
   "outputs": [
    {
     "name": "stderr",
     "output_type": "stream",
     "text": [
      "Searching no correlation:  11%|█         | 11/100 [00:00<00:00, 107.27it/s]"
     ]
    },
    {
     "name": "stdout",
     "output_type": "stream",
     "text": [
      "Not found zero std.\n"
     ]
    },
    {
     "name": "stderr",
     "output_type": "stream",
     "text": [
      "Multi normal dist over-sampling:   0%|          | 0/100 [00:00<?, ?it/s]"
     ]
    },
    {
     "name": "stdout",
     "output_type": "stream",
     "text": [
      "Not found no correlation.\n"
     ]
    },
    {
     "name": "stderr",
     "output_type": "stream",
     "text": []
    }
   ],
   "source": [
    "# over-sampling\n",
    "pos_gen = mndo(pos, num_minority)"
   ]
  },
  {
   "cell_type": "code",
   "execution_count": 6,
   "metadata": {},
   "outputs": [
    {
     "name": "stdout",
     "output_type": "stream",
     "text": [
      "2875\n",
      "(32, 7)\n",
      "(2875, 7)\n"
     ]
    }
   ],
   "source": [
    "print(num_minority)\n",
    "print(pos.shape)\n",
    "print(pos_gen.shape)"
   ]
  },
  {
   "cell_type": "code",
   "execution_count": 7,
   "metadata": {},
   "outputs": [],
   "source": [
    "distance = []\n",
    "for i in range(len(pos_gen)):\n",
    "    diff = np.array(pos_gen.iloc[i]) - np.array(pos)\n",
    "    tmp = [np.linalg.norm(diff[j]) for j in range(len(diff))]\n",
    "    distance.append(tmp)\n",
    "del tmp"
   ]
  },
  {
   "cell_type": "code",
   "execution_count": 96,
   "metadata": {},
   "outputs": [],
   "source": [
    "df_dist = pd.DataFrame(distance).T\n",
    "df_dist.index = pos.index"
   ]
  },
  {
   "cell_type": "code",
   "execution_count": 97,
   "metadata": {},
   "outputs": [
    {
     "data": {
      "text/html": [
       "<div>\n",
       "<style scoped>\n",
       "    .dataframe tbody tr th:only-of-type {\n",
       "        vertical-align: middle;\n",
       "    }\n",
       "\n",
       "    .dataframe tbody tr th {\n",
       "        vertical-align: top;\n",
       "    }\n",
       "\n",
       "    .dataframe thead th {\n",
       "        text-align: right;\n",
       "    }\n",
       "</style>\n",
       "<table border=\"1\" class=\"dataframe\">\n",
       "  <thead>\n",
       "    <tr style=\"text-align: right;\">\n",
       "      <th></th>\n",
       "      <th>0</th>\n",
       "      <th>1</th>\n",
       "      <th>2</th>\n",
       "      <th>3</th>\n",
       "      <th>4</th>\n",
       "      <th>5</th>\n",
       "      <th>6</th>\n",
       "      <th>7</th>\n",
       "      <th>8</th>\n",
       "      <th>9</th>\n",
       "      <th>...</th>\n",
       "      <th>2865</th>\n",
       "      <th>2866</th>\n",
       "      <th>2867</th>\n",
       "      <th>2868</th>\n",
       "      <th>2869</th>\n",
       "      <th>2870</th>\n",
       "      <th>2871</th>\n",
       "      <th>2872</th>\n",
       "      <th>2873</th>\n",
       "      <th>2874</th>\n",
       "    </tr>\n",
       "  </thead>\n",
       "  <tbody>\n",
       "    <tr>\n",
       "      <th>9</th>\n",
       "      <td>0.563803</td>\n",
       "      <td>1.051397</td>\n",
       "      <td>0.355013</td>\n",
       "      <td>0.301597</td>\n",
       "      <td>0.365890</td>\n",
       "      <td>0.497420</td>\n",
       "      <td>0.393342</td>\n",
       "      <td>0.147347</td>\n",
       "      <td>0.359769</td>\n",
       "      <td>1.017413</td>\n",
       "      <td>...</td>\n",
       "      <td>0.387243</td>\n",
       "      <td>0.241516</td>\n",
       "      <td>0.469838</td>\n",
       "      <td>0.454921</td>\n",
       "      <td>0.846660</td>\n",
       "      <td>0.654317</td>\n",
       "      <td>0.317906</td>\n",
       "      <td>0.604407</td>\n",
       "      <td>0.398120</td>\n",
       "      <td>0.931576</td>\n",
       "    </tr>\n",
       "    <tr>\n",
       "      <th>33</th>\n",
       "      <td>0.719568</td>\n",
       "      <td>0.461714</td>\n",
       "      <td>1.007662</td>\n",
       "      <td>0.841525</td>\n",
       "      <td>1.218238</td>\n",
       "      <td>0.958734</td>\n",
       "      <td>1.424635</td>\n",
       "      <td>1.109105</td>\n",
       "      <td>1.271991</td>\n",
       "      <td>0.460430</td>\n",
       "      <td>...</td>\n",
       "      <td>1.283110</td>\n",
       "      <td>1.003208</td>\n",
       "      <td>1.330205</td>\n",
       "      <td>0.938712</td>\n",
       "      <td>0.344621</td>\n",
       "      <td>0.803733</td>\n",
       "      <td>0.839844</td>\n",
       "      <td>0.635062</td>\n",
       "      <td>0.822589</td>\n",
       "      <td>0.356302</td>\n",
       "    </tr>\n",
       "    <tr>\n",
       "      <th>128</th>\n",
       "      <td>0.537898</td>\n",
       "      <td>0.422606</td>\n",
       "      <td>0.831792</td>\n",
       "      <td>0.725331</td>\n",
       "      <td>1.124441</td>\n",
       "      <td>0.911401</td>\n",
       "      <td>1.290547</td>\n",
       "      <td>0.959659</td>\n",
       "      <td>1.155108</td>\n",
       "      <td>0.371712</td>\n",
       "      <td>...</td>\n",
       "      <td>1.193110</td>\n",
       "      <td>0.851202</td>\n",
       "      <td>1.239594</td>\n",
       "      <td>0.752299</td>\n",
       "      <td>0.309997</td>\n",
       "      <td>0.622011</td>\n",
       "      <td>0.740913</td>\n",
       "      <td>0.459293</td>\n",
       "      <td>0.718891</td>\n",
       "      <td>0.219659</td>\n",
       "    </tr>\n",
       "    <tr>\n",
       "      <th>256</th>\n",
       "      <td>0.413226</td>\n",
       "      <td>0.881310</td>\n",
       "      <td>0.322140</td>\n",
       "      <td>0.169787</td>\n",
       "      <td>0.482204</td>\n",
       "      <td>0.464272</td>\n",
       "      <td>0.584626</td>\n",
       "      <td>0.248815</td>\n",
       "      <td>0.490188</td>\n",
       "      <td>0.840776</td>\n",
       "      <td>...</td>\n",
       "      <td>0.536500</td>\n",
       "      <td>0.253089</td>\n",
       "      <td>0.590938</td>\n",
       "      <td>0.372087</td>\n",
       "      <td>0.651669</td>\n",
       "      <td>0.525760</td>\n",
       "      <td>0.233471</td>\n",
       "      <td>0.436302</td>\n",
       "      <td>0.287696</td>\n",
       "      <td>0.738357</td>\n",
       "    </tr>\n",
       "    <tr>\n",
       "      <th>293</th>\n",
       "      <td>0.452591</td>\n",
       "      <td>0.927254</td>\n",
       "      <td>0.296322</td>\n",
       "      <td>0.213635</td>\n",
       "      <td>0.445813</td>\n",
       "      <td>0.470972</td>\n",
       "      <td>0.510362</td>\n",
       "      <td>0.212698</td>\n",
       "      <td>0.456887</td>\n",
       "      <td>0.903132</td>\n",
       "      <td>...</td>\n",
       "      <td>0.459098</td>\n",
       "      <td>0.238794</td>\n",
       "      <td>0.544879</td>\n",
       "      <td>0.370973</td>\n",
       "      <td>0.715444</td>\n",
       "      <td>0.565450</td>\n",
       "      <td>0.211978</td>\n",
       "      <td>0.486179</td>\n",
       "      <td>0.330420</td>\n",
       "      <td>0.801087</td>\n",
       "    </tr>\n",
       "  </tbody>\n",
       "</table>\n",
       "<p>5 rows × 2875 columns</p>\n",
       "</div>"
      ],
      "text/plain": [
       "         0         1         2         3         4         5         6     \\\n",
       "9    0.563803  1.051397  0.355013  0.301597  0.365890  0.497420  0.393342   \n",
       "33   0.719568  0.461714  1.007662  0.841525  1.218238  0.958734  1.424635   \n",
       "128  0.537898  0.422606  0.831792  0.725331  1.124441  0.911401  1.290547   \n",
       "256  0.413226  0.881310  0.322140  0.169787  0.482204  0.464272  0.584626   \n",
       "293  0.452591  0.927254  0.296322  0.213635  0.445813  0.470972  0.510362   \n",
       "\n",
       "         7         8         9     ...      2865      2866      2867  \\\n",
       "9    0.147347  0.359769  1.017413  ...  0.387243  0.241516  0.469838   \n",
       "33   1.109105  1.271991  0.460430  ...  1.283110  1.003208  1.330205   \n",
       "128  0.959659  1.155108  0.371712  ...  1.193110  0.851202  1.239594   \n",
       "256  0.248815  0.490188  0.840776  ...  0.536500  0.253089  0.590938   \n",
       "293  0.212698  0.456887  0.903132  ...  0.459098  0.238794  0.544879   \n",
       "\n",
       "         2868      2869      2870      2871      2872      2873      2874  \n",
       "9    0.454921  0.846660  0.654317  0.317906  0.604407  0.398120  0.931576  \n",
       "33   0.938712  0.344621  0.803733  0.839844  0.635062  0.822589  0.356302  \n",
       "128  0.752299  0.309997  0.622011  0.740913  0.459293  0.718891  0.219659  \n",
       "256  0.372087  0.651669  0.525760  0.233471  0.436302  0.287696  0.738357  \n",
       "293  0.370973  0.715444  0.565450  0.211978  0.486179  0.330420  0.801087  \n",
       "\n",
       "[5 rows x 2875 columns]"
      ]
     },
     "execution_count": 97,
     "metadata": {},
     "output_type": "execute_result"
    }
   ],
   "source": [
    "df_dist.head()"
   ]
  },
  {
   "cell_type": "code",
   "execution_count": 154,
   "metadata": {},
   "outputs": [
    {
     "data": {
      "text/plain": [
       "'rank = []\\nfor i in range(len(key)):\\n    rank.append(df_dist.index[key[i]])\\n    \\nrank = np.array(rank.T)\\n'"
      ]
     },
     "execution_count": 154,
     "metadata": {},
     "output_type": "execute_result"
    }
   ],
   "source": [
    "key = []\n",
    "for i in range(len(df_dist.columns)):\n",
    "    sort = np.argsort(-df_dist[df_dist.columns[i]])\n",
    "    key.append(sort[0:5])\n",
    "\n",
    "key = np.array(key)\n",
    "\"\"\"rank = []\n",
    "for i in range(len(key)):\n",
    "    rank.append(df_dist.index[key[i]])\n",
    "    \n",
    "rank = np.array(rank.T)\n",
    "\"\"\""
   ]
  },
  {
   "cell_type": "code",
   "execution_count": 156,
   "metadata": {},
   "outputs": [
    {
     "data": {
      "text/plain": [
       "array([15, 22, 17, 18, 24])"
      ]
     },
     "execution_count": 156,
     "metadata": {},
     "output_type": "execute_result"
    }
   ],
   "source": [
    "key[0]"
   ]
  },
  {
   "cell_type": "code",
   "execution_count": 135,
   "metadata": {},
   "outputs": [
    {
     "data": {
      "text/html": [
       "<div>\n",
       "<style scoped>\n",
       "    .dataframe tbody tr th:only-of-type {\n",
       "        vertical-align: middle;\n",
       "    }\n",
       "\n",
       "    .dataframe tbody tr th {\n",
       "        vertical-align: top;\n",
       "    }\n",
       "\n",
       "    .dataframe thead th {\n",
       "        text-align: right;\n",
       "    }\n",
       "</style>\n",
       "<table border=\"1\" class=\"dataframe\">\n",
       "  <thead>\n",
       "    <tr style=\"text-align: right;\">\n",
       "      <th></th>\n",
       "      <th>0</th>\n",
       "      <th>1</th>\n",
       "      <th>2</th>\n",
       "    </tr>\n",
       "  </thead>\n",
       "  <tbody>\n",
       "    <tr>\n",
       "      <th>9</th>\n",
       "      <td>1.0</td>\n",
       "      <td>0.0</td>\n",
       "      <td>0.0</td>\n",
       "    </tr>\n",
       "    <tr>\n",
       "      <th>33</th>\n",
       "      <td>1.0</td>\n",
       "      <td>0.0</td>\n",
       "      <td>0.0</td>\n",
       "    </tr>\n",
       "    <tr>\n",
       "      <th>128</th>\n",
       "      <td>0.0</td>\n",
       "      <td>0.0</td>\n",
       "      <td>1.0</td>\n",
       "    </tr>\n",
       "    <tr>\n",
       "      <th>256</th>\n",
       "      <td>0.0</td>\n",
       "      <td>0.0</td>\n",
       "      <td>1.0</td>\n",
       "    </tr>\n",
       "    <tr>\n",
       "      <th>293</th>\n",
       "      <td>1.0</td>\n",
       "      <td>0.0</td>\n",
       "      <td>0.0</td>\n",
       "    </tr>\n",
       "  </tbody>\n",
       "</table>\n",
       "</div>"
      ],
      "text/plain": [
       "       0    1    2\n",
       "9    1.0  0.0  0.0\n",
       "33   1.0  0.0  0.0\n",
       "128  0.0  0.0  1.0\n",
       "256  0.0  0.0  1.0\n",
       "293  1.0  0.0  0.0"
      ]
     },
     "execution_count": 135,
     "metadata": {},
     "output_type": "execute_result"
    }
   ],
   "source": [
    "nominal.head()"
   ]
  },
  {
   "cell_type": "code",
   "execution_count": 160,
   "metadata": {},
   "outputs": [
    {
     "data": {
      "text/plain": [
       "0    0.0\n",
       "1    1.0\n",
       "2    0.0\n",
       "Name: 664, dtype: float64"
      ]
     },
     "execution_count": 160,
     "metadata": {},
     "output_type": "execute_result"
    }
   ],
   "source": [
    "nominal.iloc[15]"
   ]
  },
  {
   "cell_type": "code",
   "execution_count": 169,
   "metadata": {},
   "outputs": [
    {
     "name": "stdout",
     "output_type": "stream",
     "text": [
      "2875\n",
      "5\n"
     ]
    }
   ],
   "source": [
    "print(key.shape[0])\n",
    "print(key.shape[1])"
   ]
  },
  {
   "cell_type": "code",
   "execution_count": 213,
   "metadata": {},
   "outputs": [],
   "source": [
    "tmp = []\n",
    "for i in range(1):\n",
    "    for j in range(5):\n",
    "        tmp.append(nominal.iloc[key[0][j]])"
   ]
  },
  {
   "cell_type": "code",
   "execution_count": 214,
   "metadata": {},
   "outputs": [
    {
     "data": {
      "text/html": [
       "<div>\n",
       "<style scoped>\n",
       "    .dataframe tbody tr th:only-of-type {\n",
       "        vertical-align: middle;\n",
       "    }\n",
       "\n",
       "    .dataframe tbody tr th {\n",
       "        vertical-align: top;\n",
       "    }\n",
       "\n",
       "    .dataframe thead th {\n",
       "        text-align: right;\n",
       "    }\n",
       "</style>\n",
       "<table border=\"1\" class=\"dataframe\">\n",
       "  <thead>\n",
       "    <tr style=\"text-align: right;\">\n",
       "      <th></th>\n",
       "      <th>0</th>\n",
       "      <th>1</th>\n",
       "      <th>2</th>\n",
       "    </tr>\n",
       "  </thead>\n",
       "  <tbody>\n",
       "    <tr>\n",
       "      <th>664</th>\n",
       "      <td>0.0</td>\n",
       "      <td>1.0</td>\n",
       "      <td>0.0</td>\n",
       "    </tr>\n",
       "    <tr>\n",
       "      <th>2366</th>\n",
       "      <td>0.0</td>\n",
       "      <td>0.0</td>\n",
       "      <td>1.0</td>\n",
       "    </tr>\n",
       "    <tr>\n",
       "      <th>2101</th>\n",
       "      <td>0.0</td>\n",
       "      <td>0.0</td>\n",
       "      <td>1.0</td>\n",
       "    </tr>\n",
       "    <tr>\n",
       "      <th>2160</th>\n",
       "      <td>0.0</td>\n",
       "      <td>0.0</td>\n",
       "      <td>1.0</td>\n",
       "    </tr>\n",
       "    <tr>\n",
       "      <th>3244</th>\n",
       "      <td>1.0</td>\n",
       "      <td>0.0</td>\n",
       "      <td>0.0</td>\n",
       "    </tr>\n",
       "  </tbody>\n",
       "</table>\n",
       "</div>"
      ],
      "text/plain": [
       "        0    1    2\n",
       "664   0.0  1.0  0.0\n",
       "2366  0.0  0.0  1.0\n",
       "2101  0.0  0.0  1.0\n",
       "2160  0.0  0.0  1.0\n",
       "3244  1.0  0.0  0.0"
      ]
     },
     "execution_count": 214,
     "metadata": {},
     "output_type": "execute_result"
    }
   ],
   "source": [
    "aaa = pd.DataFrame(tmp)\n",
    "aaa.head()"
   ]
  },
  {
   "cell_type": "code",
   "execution_count": 219,
   "metadata": {},
   "outputs": [
    {
     "name": "stdout",
     "output_type": "stream",
     "text": [
      "Counter({0.0: 4, 1.0: 1})\n",
      "Counter({0.0: 4, 1.0: 1})\n",
      "Counter({1.0: 3, 0.0: 2})\n"
     ]
    }
   ],
   "source": [
    "nominal_gen = []\n",
    "\n",
    "for i in range(len(aaa.columns)):\n",
    "    counter = Counter(aaa[aaa.columns[i]])\n",
    "    print(counter)\n",
    "    \n",
    "    # value, count\n",
    "    b, c = counter.most_common(1)[0]\n",
    "    nominal_gen.append(b)"
   ]
  },
  {
   "cell_type": "code",
   "execution_count": 220,
   "metadata": {},
   "outputs": [
    {
     "data": {
      "text/plain": [
       "[0.0, 0.0, 1.0]"
      ]
     },
     "execution_count": 220,
     "metadata": {},
     "output_type": "execute_result"
    }
   ],
   "source": [
    "nominal_gen"
   ]
  },
  {
   "cell_type": "code",
   "execution_count": null,
   "metadata": {},
   "outputs": [],
   "source": []
  }
 ],
 "metadata": {
  "kernelspec": {
   "display_name": "Python 3",
   "language": "python",
   "name": "python3"
  },
  "language_info": {
   "codemirror_mode": {
    "name": "ipython",
    "version": 3
   },
   "file_extension": ".py",
   "mimetype": "text/x-python",
   "name": "python",
   "nbconvert_exporter": "python",
   "pygments_lexer": "ipython3",
   "version": "3.6.4"
  }
 },
 "nbformat": 4,
 "nbformat_minor": 2
}
